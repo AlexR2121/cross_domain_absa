{
 "cells": [
  {
   "cell_type": "code",
   "execution_count": 1,
   "id": "6533c140",
   "metadata": {},
   "outputs": [],
   "source": [
    "import pandas as pd\n",
    "import re\n",
    "import spacy"
   ]
  },
  {
   "cell_type": "markdown",
   "id": "b008dd40",
   "metadata": {},
   "source": [
    "# From CONLL to raw texts"
   ]
  },
  {
   "cell_type": "code",
   "execution_count": 2,
   "id": "3ee60eae",
   "metadata": {},
   "outputs": [],
   "source": [
    "with open('data/train_sem_CoNLL.txt', 'r', encoding='utf-8') as f:\n",
    "    rest_train = f.read()"
   ]
  },
  {
   "cell_type": "code",
   "execution_count": 3,
   "id": "d4d32abe",
   "metadata": {},
   "outputs": [],
   "source": [
    "with open('data/test_sem_CoNLL.txt', 'r', encoding='utf-8') as f:\n",
    "    rest_test = f.read()"
   ]
  },
  {
   "cell_type": "code",
   "execution_count": 4,
   "id": "a113ec01",
   "metadata": {},
   "outputs": [],
   "source": [
    "pre_texts_train = rest_train.strip('-DOCSTART-\\n\\n').split('\\n\\n')\n",
    "pre_texts_test = rest_test.strip('-DOCSTART-\\n\\n').split('\\n\\n')"
   ]
  },
  {
   "cell_type": "code",
   "execution_count": 5,
   "id": "b3f3a357",
   "metadata": {},
   "outputs": [],
   "source": [
    "def get_text(pre_text):\n",
    "    new_text = re.sub(r' - - \\S+ \\S+ \\S+', ' ', pre_text)\n",
    "    new_text = re.sub(r'\\n', '', new_text)\n",
    "    new_text = re.sub(r'\\s?\\W+\\s', ' ', new_text).strip()\n",
    "    return new_text"
   ]
  },
  {
   "cell_type": "code",
   "execution_count": 6,
   "id": "047faefe",
   "metadata": {},
   "outputs": [],
   "source": [
    "with open('data/train_sem_raw.txt', 'w') as f:\n",
    "    f.writelines(list(map(lambda x: f'{get_text(x)}\\n', pre_texts_train)))"
   ]
  },
  {
   "cell_type": "code",
   "execution_count": 7,
   "id": "4f555851",
   "metadata": {},
   "outputs": [],
   "source": [
    "with open('data/test_sem_raw.txt', 'w') as f:\n",
    "    f.writelines(list(map(lambda x: f'{get_text(x)}\\n', pre_texts_test)))"
   ]
  },
  {
   "cell_type": "markdown",
   "id": "7aac8691",
   "metadata": {},
   "source": [
    "# spaCy markup"
   ]
  },
  {
   "cell_type": "code",
   "execution_count": 20,
   "id": "6ce21971",
   "metadata": {},
   "outputs": [],
   "source": [
    "with open('data/train_sem_raw.txt', 'r') as f:\n",
    "    rest_train = f.read().split('\\n')[:-1]"
   ]
  },
  {
   "cell_type": "code",
   "execution_count": 15,
   "id": "135b34df",
   "metadata": {},
   "outputs": [],
   "source": [
    "nlp = spacy.load(\"ru_core_news_lg\")"
   ]
  },
  {
   "cell_type": "code",
   "execution_count": 22,
   "id": "ac9c9eea",
   "metadata": {},
   "outputs": [],
   "source": [
    "doc = nlp(rest_train[0])"
   ]
  },
  {
   "cell_type": "code",
   "execution_count": 29,
   "id": "fe0d8444",
   "metadata": {},
   "outputs": [],
   "source": [
    "t= doc[0]"
   ]
  },
  {
   "cell_type": "code",
   "execution_count": 34,
   "id": "9aca90bc",
   "metadata": {},
   "outputs": [
    {
     "data": {
      "text/plain": [
       "заведении"
      ]
     },
     "execution_count": 34,
     "metadata": {},
     "output_type": "execute_result"
    }
   ],
   "source": [
    "next(t.ancestors)"
   ]
  },
  {
   "cell_type": "code",
   "execution_count": 27,
   "id": "21ab3db0",
   "metadata": {},
   "outputs": [
    {
     "name": "stdout",
     "output_type": "stream",
     "text": [
      "Был AUX cop\n",
      "в ADP case\n",
      "заведении NOUN obl\n",
      "со ADP case\n",
      "своей DET det\n",
      "девушкой NOUN nmod\n",
      "в ADP case\n",
      "пятницу NOUN nmod\n",
      "Очень ADV advmod\n",
      "неплохо ADV advmod\n",
      "Ресторану PROPN obl\n",
      "еще ADV advmod\n",
      "много ADV advmod\n",
      "есть VERB conj\n",
      "над ADP case\n",
      "чем PRON obl\n",
      "поработать VERB xcomp\n",
      "конечно ADV advmod\n",
      "но CCONJ cc\n",
      "тем PRON case\n",
      "не PART fixed\n",
      "менее ADV fixed\n",
      "место NOUN nsubj\n",
      "довольно ADV advmod\n",
      "милое ADJ amod\n",
      "обслуживание NOUN nsubj\n",
      "приятное ADJ amod\n",
      "и CCONJ cc\n",
      "еда NOUN nsubj\n",
      "довольно ADV advmod\n",
      "вкусна ADJ conj\n",
      "Заказывали VERB ROOT\n",
      "салаты NOUN obj\n",
      "и CCONJ cc\n",
      "горячее ADJ amod\n",
      "стейк NOUN conj\n",
      "из ADP case\n",
      "лосося NOUN nmod\n",
      "и CCONJ cc\n",
      "блюдо NOUN conj\n",
      "под ADP case\n",
      "названием NOUN nmod\n",
      "сытая ADJ amod\n",
      "хавронья NOUN conj\n",
      "из ADP case\n",
      "свинины NOUN nmod\n",
      "Принесли PROPN appos\n",
      "быстро ADV advmod\n",
      "Крепкого ADJ amod\n",
      "алкоголя NOUN nmod\n",
      "кроме ADP case\n",
      "пива NOUN nmod\n",
      "у ADP case\n",
      "них PRON obl\n",
      "пока ADV advmod\n",
      "нет VERB conj\n",
      "видимо ADV advmod\n",
      "с ADP case\n",
      "лицензией NOUN obl\n",
      "проблемы NOUN nmod\n",
      "но CCONJ cc\n",
      "медовуха NOUN nsubj\n",
      "оказалась VERB conj\n",
      "очень ADV advmod\n",
      "даже PART advmod\n",
      "приятной ADJ amod\n",
      "Хотелось VERB xcomp\n",
      "бы AUX aux\n",
      "конечно ADV advmod\n",
      "большего ADJ amod\n",
      "разнообразия NOUN obj\n",
      "в ADP case\n",
      "меню NOUN nmod\n",
      "но CCONJ cc\n",
      "так ADV mark\n",
      "как SCONJ fixed\n",
      "они PRON nsubj\n",
      "недавно ADV advmod\n",
      "открылись VERB conj\n",
      "думаю VERB xcomp\n",
      "со ADP case\n",
      "временем NOUN obl\n",
      "все DET advmod\n",
      "у ADP case\n",
      "них PRON obl\n",
      "наладится VERB conj\n"
     ]
    }
   ],
   "source": [
    "for token in doc:\n",
    "    print(token.text, token.pos_, token.dep_, token.)"
   ]
  },
  {
   "cell_type": "code",
   "execution_count": 26,
   "id": "d5902fe6",
   "metadata": {},
   "outputs": [
    {
     "data": {
      "text/plain": [
       "Был в заведении со своей девушкой в пятницу Очень неплохо Ресторану еще много есть над чем поработать конечно но тем не менее место довольно милое обслуживание приятное и еда довольно вкусна Заказывали салаты и горячее стейк из лосося и блюдо под названием сытая хавронья из свинины Принесли быстро Крепкого алкоголя кроме пива у них пока нет видимо с лицензией проблемы но медовуха оказалась очень даже приятной Хотелось бы конечно большего разнообразия в меню но так как они недавно открылись думаю со временем все у них наладится"
      ]
     },
     "execution_count": 26,
     "metadata": {},
     "output_type": "execute_result"
    }
   ],
   "source": [
    "doc."
   ]
  },
  {
   "cell_type": "code",
   "execution_count": null,
   "id": "db772c57",
   "metadata": {},
   "outputs": [],
   "source": []
  }
 ],
 "metadata": {
  "kernelspec": {
   "display_name": "Python 3",
   "language": "python",
   "name": "python3"
  },
  "language_info": {
   "codemirror_mode": {
    "name": "ipython",
    "version": 3
   },
   "file_extension": ".py",
   "mimetype": "text/x-python",
   "name": "python",
   "nbconvert_exporter": "python",
   "pygments_lexer": "ipython3",
   "version": "3.6.13"
  }
 },
 "nbformat": 4,
 "nbformat_minor": 5
}
