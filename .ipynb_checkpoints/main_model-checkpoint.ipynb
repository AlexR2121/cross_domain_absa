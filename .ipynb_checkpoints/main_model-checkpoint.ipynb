{
 "cells": [
  {
   "cell_type": "code",
   "execution_count": 3,
   "id": "c61c8eed",
   "metadata": {},
   "outputs": [],
   "source": [
    "import numpy as np\n",
    "from transformers import TFAutoModel, BertTokenizerFast\n",
    "import tensorflow as tf\n",
    "from tensorflow.keras.layers import Dense, Input, TimeDistributed, Subtract, Multiply, Concatenate, Layer"
   ]
  },
  {
   "cell_type": "code",
   "execution_count": 2,
   "id": "93d05150",
   "metadata": {},
   "outputs": [],
   "source": [
    "import spacy\n",
    "nlp = spacy.load(\"ru_core_news_lg\")"
   ]
  },
  {
   "cell_type": "code",
   "execution_count": 3,
   "id": "56e5cd5b",
   "metadata": {},
   "outputs": [],
   "source": [
    "POS_tags = {'ADJ', 'ADP', 'ADV', 'AUX',\n",
    "            'CCONJ', 'DET', 'INTJ', 'NOUN',\n",
    "            'NUM', 'PART', 'PRON', 'PROPN',\n",
    "            'PUNCT', 'SCONJ', 'SYM', 'VERB', \n",
    "            'X', '[PAD]'}"
   ]
  },
  {
   "cell_type": "code",
   "execution_count": 1,
   "id": "39304eaf",
   "metadata": {},
   "outputs": [],
   "source": [
    "DEP_tags = 'ROOT, acl, acl:relcl, advcl, advmod, amod, appos, aux, aux:pass, case, cc, ccomp, compound, conj, cop, csubj, csubj:pass, dep, det, discourse, expl, fixed, flat, flat:foreign, flat:name, iobj, list, mark, nmod, nsubj, nsubj:pass, nummod, nummod:entity, nummod:gov, obj, obl, obl:agent, orphan, parataxis, punct, xcomp'.split(', ')"
   ]
  },
  {
   "cell_type": "code",
   "execution_count": 6,
   "id": "feb87325",
   "metadata": {},
   "outputs": [
    {
     "name": "stderr",
     "output_type": "stream",
     "text": [
      "Some weights of the PyTorch model were not used when initializing the TF 2.0 model TFBertModel: ['classifier.bias', 'classifier.weight', 'bert.embeddings.position_ids']\n",
      "- This IS expected if you are initializing TFBertModel from a PyTorch model trained on another task or with another architecture (e.g. initializing a TFBertForSequenceClassification model from a BertForPreTraining model).\n",
      "- This IS NOT expected if you are initializing TFBertModel from a PyTorch model that you expect to be exactly identical (e.g. initializing a TFBertForSequenceClassification model from a BertForSequenceClassification model).\n",
      "All the weights of TFBertModel were initialized from the PyTorch model.\n",
      "If your task is similar to the task the model of the checkpoint was trained on, you can already use TFBertModel for predictions without further training.\n"
     ]
    }
   ],
   "source": [
    "tokenizer = BertTokenizerFast.from_pretrained('blanchefort/rubert-base-cased-sentiment-rurewiews')\n",
    "model = TFAutoModel.from_pretrained('blanchefort/rubert-base-cased-sentiment-rurewiews', from_pt=True)"
   ]
  },
  {
   "cell_type": "code",
   "execution_count": 45,
   "id": "d4dcd715",
   "metadata": {},
   "outputs": [
    {
     "data": {
      "text/plain": [
       "393216"
      ]
     },
     "execution_count": 45,
     "metadata": {},
     "output_type": "execute_result"
    }
   ],
   "source": [
    "512* 768"
   ]
  },
  {
   "cell_type": "code",
   "execution_count": 13,
   "id": "f7f2162c",
   "metadata": {},
   "outputs": [],
   "source": [
    "x = tf.constant(np.random.randint(12, size=6).reshape(3, 2))\n",
    "y = tf.constant(np.random.randint(12, size=6).reshape(3, 2))"
   ]
  },
  {
   "cell_type": "code",
   "execution_count": 14,
   "id": "28430758",
   "metadata": {},
   "outputs": [
    {
     "data": {
      "text/plain": [
       "<tf.Tensor: shape=(3, 2), dtype=int32, numpy=\n",
       "array([[ 4,  0],\n",
       "       [ 2, 10],\n",
       "       [ 4,  6]])>"
      ]
     },
     "execution_count": 14,
     "metadata": {},
     "output_type": "execute_result"
    }
   ],
   "source": [
    "x"
   ]
  },
  {
   "cell_type": "code",
   "execution_count": 15,
   "id": "92352070",
   "metadata": {
    "scrolled": true
   },
   "outputs": [
    {
     "data": {
      "text/plain": [
       "<tf.Tensor: shape=(3, 2), dtype=int32, numpy=\n",
       "array([[5, 4],\n",
       "       [1, 7],\n",
       "       [0, 5]])>"
      ]
     },
     "execution_count": 15,
     "metadata": {},
     "output_type": "execute_result"
    }
   ],
   "source": [
    "y"
   ]
  },
  {
   "cell_type": "code",
   "execution_count": 16,
   "id": "49643170",
   "metadata": {},
   "outputs": [],
   "source": [
    "x = tf.concat([x, np.array([[0,0],[0,0]])],0)"
   ]
  },
  {
   "cell_type": "code",
   "execution_count": 18,
   "id": "33c5a9fc",
   "metadata": {},
   "outputs": [],
   "source": [
    "y = tf.concat([y, np.array([[0,0],[0,0]])],0)"
   ]
  },
  {
   "cell_type": "code",
   "execution_count": 22,
   "id": "faa55e45",
   "metadata": {},
   "outputs": [],
   "source": [
    "class OuterVectorSubMulConcatLayer(Layer):\n",
    "    \n",
    "    def __init__(self, **kwargs):\n",
    "        super(OuterVectorSubMulConcatLayer, self).__init__(**kwargs)\n",
    "\n",
    "    def call(self, inputs, masks):\n",
    "        x = tf.boolean_mask(inputs[0], masks[0])\n",
    "        y = tf.boolean_mask(inputs[1], masks[1])\n",
    "        seq_len = x.shape[0]\n",
    "        hid_size = x.shape[1]\n",
    "        repeated_x = tf.reshape(tf.repeat(x, seq_len, axis=0), (seq_len, seq_len, hid_size))\n",
    "        repeated_y =  tf.repeat([y], seq_len, axis=0)\n",
    "        outer_subtraction = repeated_x - repeated_y\n",
    "        outer_multiplication = repeated_x * repeated_y\n",
    "        o = tf.reshape(tf.concat([repeated_x, repeated_y, outer_subtraction, outer_multiplication], axis=-1), \n",
    "                       (seq_len*seq_len, hid_size*4))\n",
    "        return o"
   ]
  },
  {
   "cell_type": "code",
   "execution_count": 24,
   "id": "d7804d5e",
   "metadata": {},
   "outputs": [
    {
     "data": {
      "text/plain": [
       "<tf.Tensor: shape=(9, 8), dtype=int32, numpy=\n",
       "array([[ 4,  0,  5,  4, -1, -4, 20,  0],\n",
       "       [ 4,  0,  1,  7,  3, -7,  4,  0],\n",
       "       [ 4,  0,  0,  5,  4, -5,  0,  0],\n",
       "       [ 2, 10,  5,  4, -3,  6, 10, 40],\n",
       "       [ 2, 10,  1,  7,  1,  3,  2, 70],\n",
       "       [ 2, 10,  0,  5,  2,  5,  0, 50],\n",
       "       [ 4,  6,  5,  4, -1,  2, 20, 24],\n",
       "       [ 4,  6,  1,  7,  3, -1,  4, 42],\n",
       "       [ 4,  6,  0,  5,  4,  1,  0, 30]])>"
      ]
     },
     "execution_count": 24,
     "metadata": {},
     "output_type": "execute_result"
    }
   ],
   "source": [
    "OuterVectorSubMulConcatLayer()([x[:3],y[:3]], [np.array([1,1,1,0,0])]*2)"
   ]
  },
  {
   "cell_type": "code",
   "execution_count": 21,
   "id": "1fca7fb9",
   "metadata": {},
   "outputs": [
    {
     "data": {
      "text/plain": [
       "<tf.Tensor: shape=(9, 8), dtype=int32, numpy=\n",
       "array([[ 4,  0,  5,  4, -1, -4, 20,  0],\n",
       "       [ 4,  0,  1,  7,  3, -7,  4,  0],\n",
       "       [ 4,  0,  0,  5,  4, -5,  0,  0],\n",
       "       [ 2, 10,  5,  4, -3,  6, 10, 40],\n",
       "       [ 2, 10,  1,  7,  1,  3,  2, 70],\n",
       "       [ 2, 10,  0,  5,  2,  5,  0, 50],\n",
       "       [ 4,  6,  5,  4, -1,  2, 20, 24],\n",
       "       [ 4,  6,  1,  7,  3, -1,  4, 42],\n",
       "       [ 4,  6,  0,  5,  4,  1,  0, 30]])>"
      ]
     },
     "execution_count": 21,
     "metadata": {},
     "output_type": "execute_result"
    }
   ],
   "source": [
    "OuterVectorSubMulConcatLayer()([x,y], [np.array([1,1,1,0,0])]*2)"
   ]
  },
  {
   "cell_type": "code",
   "execution_count": 3,
   "id": "3934ddc4",
   "metadata": {},
   "outputs": [],
   "source": [
    "d = 256"
   ]
  },
  {
   "cell_type": "code",
   "execution_count": null,
   "id": "c5131f4a",
   "metadata": {},
   "outputs": [],
   "source": [
    "def UDAModel(tf.keras.models.Model):\n",
    "    \n",
    "    def __init__(self, d, POS_tags, bert, **kwargs):\n",
    "        super(UDAModel, self).__init__(**kwargs)\n",
    "        self.bert = bert\n",
    "        \n",
    "        # POS-tag part\n",
    "        self.local_pos_tgr = Dense(units = len(POS_tags),\n",
    "                                   activation = 'softmax',\n",
    "                                   name = 'POS-tagger')\n",
    "        self.pos_clf = TimeDistributed(self.local_pos_tgr)\n",
    "        \n",
    "        # Syntax part\n",
    "        self.local_head_repr = Dense(units = d/4,\n",
    "                                     activation = 'tanh',\n",
    "                                     name = 'head_repr')\n",
    "        self.head_repr = TimeDistributed(self.local_head_repr)\n",
    "        \n",
    "        self.local_tail_repr = Dense(units = d/4,\n",
    "                                     activation = 'tanh',\n",
    "                                     name = 'tail_repr')\n",
    "        self.tail_repr = TimeDistributed(self.local_tail_repr)\n",
    "        \n",
    "        o_matrix = OuterVectorSubMulConcatLayer(name = '[hh, ht, hh-ht, hh*ht]')\n",
    "        \n",
    "        \n",
    "    def call(self, inputs):\n",
    "        x = inputs[0]\n",
    "        y = inputs[1]\n",
    "        seq_len = x.shape[0]\n",
    "        hid_size = x.shape[1]\n",
    "        repeated_x = tf.reshape(tf.repeat(x, seq_len, axis=0), (seq_len, seq_len, hid_size))\n",
    "        repeated_y =  tf.repeat([y], seq_len, axis=0)\n",
    "        outer_subtraction = repeated_x - repeated_y\n",
    "        outer_multiplication = repeated_x * repeated_y\n",
    "        o = tf.concat([repeated_x, repeated_y, s, m], axis=-1)\n",
    "        return o"
   ]
  },
  {
   "cell_type": "code",
   "execution_count": null,
   "id": "3d37ae1d",
   "metadata": {},
   "outputs": [],
   "source": [
    "# model draft\n",
    "\n",
    "input_ids = Input((512,))\n",
    "masks = Input((512,))\n",
    "\n",
    "lm_out = model([input_ids, masks])\n",
    "\n",
    "local_pos_tgr = Dense(units = len(POS_tags),\n",
    "                      activation = 'softmax',\n",
    "                      name = 'POS-tagger')\n",
    "pos_clf = TimeDistributed(local_pos_tgr)(inputs=lm_out.last_hidden_state, masks=masks)\n",
    "\n",
    "local_head_repr = Dense(units = d/4,\n",
    "                        activation = 'tanh',\n",
    "                        name = 'head_repr')\n",
    "head_repr = TimeDistributed(local_head_repr)(inputs=lm_out.last_hidden_state, masks=masks) # (bs, T, d/4)\n",
    "\n",
    "local_tail_repr = Dense(units = d/4,\n",
    "                        activation = 'tanh',\n",
    "                        name = 'tail_repr')\n",
    "tail_repr = TimeDistributed(local_tail_repr)(inputs=lm_out.last_hidden_state, masks=masks) # (bs, T, d/4)\n",
    "\n",
    "o_matrix = OuterVectorSubMulConcatLayer(name = '[hh, ht, hh-ht, hh*ht]')([head_repr, tail_repr]) # (bs, T, T, d)"
   ]
  }
 ],
 "metadata": {
  "kernelspec": {
   "display_name": "Python 3 (ipykernel)",
   "language": "python",
   "name": "python3"
  },
  "language_info": {
   "codemirror_mode": {
    "name": "ipython",
    "version": 3
   },
   "file_extension": ".py",
   "mimetype": "text/x-python",
   "name": "python",
   "nbconvert_exporter": "python",
   "pygments_lexer": "ipython3",
   "version": "3.9.0"
  }
 },
 "nbformat": 4,
 "nbformat_minor": 5
}
