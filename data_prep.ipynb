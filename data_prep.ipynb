{
 "cells": [
  {
   "cell_type": "code",
   "execution_count": 63,
   "id": "6533c140",
   "metadata": {},
   "outputs": [],
   "source": [
    "import pandas as pd\n",
    "import re"
   ]
  },
  {
   "cell_type": "markdown",
   "id": "b008dd40",
   "metadata": {},
   "source": [
    "# From CONLL to raw texts"
   ]
  },
  {
   "cell_type": "code",
   "execution_count": 64,
   "id": "3ee60eae",
   "metadata": {},
   "outputs": [],
   "source": [
    "with open('data/train_sem_CoNLL.txt', 'r', encoding='utf-8') as f:\n",
    "    rest_train = f.read()"
   ]
  },
  {
   "cell_type": "code",
   "execution_count": 65,
   "id": "d4d32abe",
   "metadata": {},
   "outputs": [],
   "source": [
    "with open('data/test_sem_CoNLL.txt', 'r', encoding='utf-8') as f:\n",
    "    rest_test = f.read()"
   ]
  },
  {
   "cell_type": "code",
   "execution_count": 66,
   "id": "a113ec01",
   "metadata": {},
   "outputs": [],
   "source": [
    "pre_texts_train = rest_train.strip('-DOCSTART-\\n\\n').split('\\n\\n')\n",
    "pre_texts_test = rest_test.strip('-DOCSTART-\\n\\n').split('\\n\\n')"
   ]
  },
  {
   "cell_type": "code",
   "execution_count": 67,
   "id": "b3f3a357",
   "metadata": {},
   "outputs": [],
   "source": [
    "def get_text(pre_text):\n",
    "    new_text = re.sub(r' - - \\S+ \\S+ \\S+', ' ', pre_text)\n",
    "    new_text = re.sub(r'\\n', '', new_text)\n",
    "    new_text = re.sub(r'\\s?\\W+\\s', ' ', new_text).strip()\n",
    "    return new_text"
   ]
  },
  {
   "cell_type": "code",
   "execution_count": 56,
   "id": "047faefe",
   "metadata": {},
   "outputs": [],
   "source": [
    "with open('data/train_sem_raw.txt', 'w') as f:\n",
    "    f.writelines(list(map(lambda x: f'{get_text(x)}\\n', pre_texts_train)))"
   ]
  },
  {
   "cell_type": "code",
   "execution_count": 68,
   "id": "4f555851",
   "metadata": {},
   "outputs": [],
   "source": [
    "with open('data/test_sem_raw.txt', 'w') as f:\n",
    "    f.writelines(list(map(lambda x: f'{get_text(x)}\\n', pre_texts_test)))"
   ]
  }
 ],
 "metadata": {
  "kernelspec": {
   "display_name": "Python 3",
   "language": "python",
   "name": "python3"
  },
  "language_info": {
   "codemirror_mode": {
    "name": "ipython",
    "version": 3
   },
   "file_extension": ".py",
   "mimetype": "text/x-python",
   "name": "python",
   "nbconvert_exporter": "python",
   "pygments_lexer": "ipython3",
   "version": "3.6.13"
  }
 },
 "nbformat": 4,
 "nbformat_minor": 5
}
